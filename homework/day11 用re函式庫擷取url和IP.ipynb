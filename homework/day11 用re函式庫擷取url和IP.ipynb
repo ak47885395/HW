{
 "cells": [
  {
   "cell_type": "code",
   "execution_count": 73,
   "metadata": {},
   "outputs": [],
   "source": [
    "#在網路爬蟲當中，正規表達式常常用來過濾以及搜尋特定的 pattern 字串。今天來利用正規表達式練習過濾 IP address，以及 URL。 \n",
    "\n",
    "# 目標\n",
    "# 想出 regex (pattern) 來過濾\n",
    "import re"
   ]
  },
  {
   "cell_type": "code",
   "execution_count": 153,
   "metadata": {},
   "outputs": [],
   "source": [
    "#定義一個測試表達式是否符合文本的函數\n",
    "def RegexMatchingTest(regex , input_text):\n",
    "    #將表達式字串compile成能被匹配的對象  也就是pattern\n",
    "    pattern=re.compile(regex)\n",
    "    pattern=re.compile(regex,  flags=re.IGNORECASE) # 若要忽略大小寫\n",
    "    # 帶入編譯後的pattern，來測試是否匹配\n",
    "    # 這裡也可以用match()、split()、findall()、sub()等其他函數來測試匹配\n",
    "    result=re.search(pattern ,input_text)\n",
    "    if result:\n",
    "        # 匹配完的結果會儲存在group()的屬性中，我們可以把匹配的結果列印出來\n",
    "        print(\"Matched: %s\" % (result.group()))    #result 就是 input_text 也就是文本\n",
    "       # print(result)\n",
    "        if result.lastindex is not None:   # 如果有 出現  () 的話   lastindex is not None\n",
    "        #    print(result.lastindex)\n",
    "            # group(0)代表整個字串，group(1)、group(2)...代表分組中，匹配的內容\n",
    "            for i in range(0, result.lastindex+1):\n",
    "                print(\"  group(%d): %s\" % (i, result.group(i)))\n",
    "    else:\n",
    "        print(\"Not matched.\")\n",
    "# 關於  search 規則\n",
    "# 從input_text的第一個字元開始  一個個字元 找相配的  若第一個字元就不一樣 後面就不看了  \n",
    "\n",
    "# pattern 的 | ( or )  會以第一個條件去匹配 若一開始就相符 後面條件就不看了\n",
    "\n",
    "\n",
    "\n",
    "# 一個 []   只會對應 單個 字元    從string 的第一個開始  一但有相同的就停下來\n",
    "\n",
    "#  若 [] 加上  ([])  匹配的時候會將 string 視為一個整體  \n",
    "     #  ex:\n",
    "        #    216   ([0-8])\n",
    "          #  not matched\n",
    "\n",
    "# []+  []? []*   這些表達模式會繼續往下找\n",
    "#ex :\n",
    "    #  216.58\n",
    "    #  [0-8].[0-9]\n",
    "    #  out:  216   表示[0-8]直接 對應到整個216.58   如果要在表示法中 將 . 變成一般字元需要使用  \\\n",
    "    #  也就是  \\.   \n",
    "    \n",
    "    # 216\n",
    "    # [0-8]  只會出現 2   "
   ]
  },
  {
   "cell_type": "code",
   "execution_count": 154,
   "metadata": {},
   "outputs": [
    {
     "name": "stdout",
     "output_type": "stream",
     "text": [
      "Matched: 009\n"
     ]
    }
   ],
   "source": [
    "test_string = \"Google IP address is 009\"\n",
    "regex=\"[0-1]?[0-9]?[0-9]\"\n",
    "RegexMatchingTest(regex, test_string)"
   ]
  },
  {
   "cell_type": "code",
   "execution_count": 155,
   "metadata": {},
   "outputs": [
    {
     "name": "stdout",
     "output_type": "stream",
     "text": [
      "Not matched.\n",
      "Matched: 216.58.200.227\n",
      "  group(0): 216.58.200.227\n",
      "  group(1): 216\n",
      "  group(2): 58\n",
      "  group(3): 200\n",
      "  group(4): 227\n",
      "Not matched.\n"
     ]
    }
   ],
   "source": [
    "test_string0 = \"Test IP 016\"\n",
    "\n",
    "test_string1 = \"Test IP 216.58.200.227\"\n",
    "\n",
    "test_string2 = \"Test IP 999.888.777.666\"\n",
    "\n",
    "regex='(25[0-5]|2[0-4][0-9]|1[0-9][0-9]|[1-9][0-9]|[0-9])\\.(25[0-5]|2[0-4][0-9]|1[0-9][0-9]|[1-9][0-9]|[0-9])\\.(25[0-5]|2[0-4][0-9]|1[0-9][0-9]|[1-9][0-9]|[0-9])\\.(25[0-5]|2[0-4][0-9]|1[0-9][0-9]|[1-9][0-9]|[0-9])'\n",
    " \n",
    "    #  25 0~5\n",
    "    #  2 0~4 0~9\n",
    "    # 1 0~9 0~9  1~9 0~9 0~9\n",
    "RegexMatchingTest(regex, test_string0)  \n",
    "\n",
    "RegexMatchingTest(regex, test_string1)  #測試表達式是否會匹配此合法IP\n",
    "\n",
    "RegexMatchingTest(regex, test_string2)  #測試表達式是否會匹配此不合法IP\n"
   ]
  },
  {
   "cell_type": "code",
   "execution_count": 165,
   "metadata": {},
   "outputs": [
    {
     "name": "stdout",
     "output_type": "stream",
     "text": [
      "Matched: I love 21\n"
     ]
    }
   ],
   "source": [
    "test_string = \"I love 216.\"\n",
    "regex = 'I love [1-5][0-2]'\n",
    "RegexMatchingTest(regex, test_string)"
   ]
  },
  {
   "cell_type": "code",
   "execution_count": 138,
   "metadata": {},
   "outputs": [
    {
     "name": "stdout",
     "output_type": "stream",
     "text": [
      "Not matched.\n"
     ]
    }
   ],
   "source": [
    "test_string = \"I love dogs.\"\n",
    "regex = 'I love [acgnost]'\n",
    "RegexMatchingTest(regex, test_string)"
   ]
  },
  {
   "cell_type": "code",
   "execution_count": 184,
   "metadata": {},
   "outputs": [
    {
     "name": "stdout",
     "output_type": "stream",
     "text": [
      "Matched: https://movies.yahoo.com.tw/movietime_result.html/id=9467\n"
     ]
    }
   ],
   "source": [
    "#過濾URL\n",
    "html_a_tag = \"<a href=https://movies.yahoo.com.tw/movietime_result.html/id=9467> 時刻表 </a>\"\n",
    "\n",
    "regex=\"https://.+[0-9]\"\n",
    "\n",
    "RegexMatchingTest(regex , html_a_tag)"
   ]
  },
  {
   "cell_type": "code",
   "execution_count": 195,
   "metadata": {},
   "outputs": [
    {
     "name": "stdout",
     "output_type": "stream",
     "text": [
      "Matched: <a href=https://movies.yahoo.com.tw/movietime_result.html/id=9467>\n",
      "  group(0): <a href=https://movies.yahoo.com.tw/movietime_result.html/id=9467>\n",
      "  group(1): https://movies.yahoo.com.tw/movietime_result.html/id=9467\n"
     ]
    }
   ],
   "source": [
    "regex_test = '<a href=([^>]+)>'   #  ([^>]+)\n",
    "RegexMatchingTest(regex_test  , html_a_tag)"
   ]
  },
  {
   "cell_type": "code",
   "execution_count": 196,
   "metadata": {},
   "outputs": [
    {
     "name": "stdout",
     "output_type": "stream",
     "text": [
      "Matched: https://movies.yahoo.com.tw/movietime_result.html/id=9467\n",
      "  group(0): https://movies.yahoo.com.tw/movietime_result.html/id=9467\n",
      "  group(1): .tw\n",
      "  group(2): /movietime_result.html/id=9467\n"
     ]
    }
   ],
   "source": [
    "regex_test_two = 'https:\\/\\/[\\w]+(\\.[\\w]+)+([\\w\\.,@?^=%&amp;:\\/~+#-]*)?'\n",
    "RegexMatchingTest(regex_test_two  , html_a_tag)"
   ]
  },
  {
   "cell_type": "code",
   "execution_count": 197,
   "metadata": {},
   "outputs": [
    {
     "name": "stdout",
     "output_type": "stream",
     "text": [
      "Matched: https://movies.yahoo.com.tw/movietime_result.html/id=9467\n"
     ]
    }
   ],
   "source": [
    "regex_test_three = 'https:\\/\\/\\D+\\d+\\d'\n",
    "RegexMatchingTest(regex_test_three  , html_a_tag)"
   ]
  },
  {
   "cell_type": "code",
   "execution_count": null,
   "metadata": {},
   "outputs": [],
   "source": []
  }
 ],
 "metadata": {
  "kernelspec": {
   "display_name": "Python 3",
   "language": "python",
   "name": "python3"
  },
  "language_info": {
   "codemirror_mode": {
    "name": "ipython",
    "version": 3
   },
   "file_extension": ".py",
   "mimetype": "text/x-python",
   "name": "python",
   "nbconvert_exporter": "python",
   "pygments_lexer": "ipython3",
   "version": "3.7.6"
  }
 },
 "nbformat": 4,
 "nbformat_minor": 4
}
