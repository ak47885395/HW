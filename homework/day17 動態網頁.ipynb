{
 "cells": [
  {
   "cell_type": "markdown",
   "metadata": {},
   "source": [
    "# HTTP 動態網頁架構說明\n",
    "\n",
    "了解動態網頁的資料爬蟲策略\n",
    "\n",
    "知道非同步網頁載入機制（Ajax）\n",
    "\n",
    "學習兩種對應動態網頁爬蟲的的策略"
   ]
  },
  {
   "cell_type": "markdown",
   "metadata": {},
   "source": [
    "# 作業目標\n",
    "\n",
    "回答以下問題：\n",
    "\n",
    "動態網頁跟靜態網頁的差別是什麼？原本靜態網頁的做法會產生什麼問題或是缺點？\n",
    "\n",
    "還記得我們在 ETTODAY 靜態爬蟲實作練習中，有請大家完成一個題目「取出今天所有的發文」，但仔細看其實並沒有真的把當天所有的新聞都抓回來， 試著回答看看原因是什麼？及該如何檢查？"
   ]
  },
  {
   "cell_type": "markdown",
   "metadata": {},
   "source": [
    "# 1. 動態網頁跟靜態網頁的差別是什麼？原本靜態網頁的做法會產生什麼問題或是缺點？"
   ]
  },
  {
   "cell_type": "code",
   "execution_count": 1,
   "metadata": {},
   "outputs": [
    {
     "data": {
      "text/plain": [
       "'\\n1.動態網頁 又稱 \" 非同步網頁 \" 網頁後端只會回傳資料, 而不會將整個網頁 回傳給使用者\\n\\n瀏覽器會先接受到 html  , \"  再利用 JS 透過 API request \"  才會將整個網站呈現 給 使用者\\n\\n靜態網頁  又稱  \" 同步網頁 \"  使用者 發送 requests 給伺服器 後端會將所有內容一次全部給瀏覽器\\n\\n要求 與  回傳  為1對1關係\\n\\n動態網頁 會 透過 Ajax 的技術，來完成非同步的資料傳輸\\nAJAX（Asynchronous JavaScript and XML）\\n使用 AJAX 來與伺服器溝通的情況下，不會重新載入整個頁面，而只是傳遞最小的必要資料。\\n\\n\\n動態和靜態 網頁 最大的差別在於 是在資料是在甚麼時間取得的\\n\\n動態網頁 是在browser 已經取得 html 之後 再透過 js 在需要時   動態的 取得資料\\n\\n2.\\n\\n靜態網頁 的做法  只是模擬 requests 的 行為 \\n\\n沒有 js 再 requests 取得 資料 去更新 我們無法取得完整的網頁\\n\\n\\n\\n'"
      ]
     },
     "execution_count": 1,
     "metadata": {},
     "output_type": "execute_result"
    }
   ],
   "source": [
    "'''\n",
    "1.動態網頁 又稱 \" 非同步網頁 \" 網頁後端只會回傳資料, 而不會將整個網頁 回傳給使用者\n",
    "\n",
    "瀏覽器會先接受到 html  , \"  再利用 JS 透過 API request \"  才會將整個網站呈現 給 使用者\n",
    "\n",
    "靜態網頁  又稱  \" 同步網頁 \"  使用者 發送 requests 給伺服器 後端會將所有內容一次全部給瀏覽器\n",
    "\n",
    "要求 與  回傳  為1對1關係\n",
    "\n",
    "動態網頁 會 透過 Ajax 的技術，來完成非同步的資料傳輸\n",
    "AJAX（Asynchronous JavaScript and XML）\n",
    "使用 AJAX 來與伺服器溝通的情況下，不會重新載入整個頁面，而只是傳遞最小的必要資料。\n",
    "\n",
    "\n",
    "動態和靜態 網頁 最大的差別在於 是在資料是在甚麼時間取得的\n",
    "\n",
    "動態網頁 是在browser 已經取得 html 之後 再透過 js 在需要時   動態的 取得資料\n",
    "\n",
    "2.\n",
    "\n",
    "靜態網頁 的做法  只是模擬 requests 的 行為 \n",
    "\n",
    "沒有 js 再 requests 取得 資料 去更新 我們無法取得完整的網頁\n",
    "\n",
    "\n",
    "\n",
    "'''"
   ]
  },
  {
   "cell_type": "markdown",
   "metadata": {},
   "source": [
    "# 2. 還記得我們在 ETTODAY 靜態爬蟲實作練習中，有請大家完成一個題目「取出今天所有的發文」，但仔細看其實並沒有真的把當天所有的新聞都抓回來， 試著回答看看原因是什麼？及該如何檢查？"
   ]
  },
  {
   "cell_type": "code",
   "execution_count": 2,
   "metadata": {},
   "outputs": [
    {
     "data": {
      "text/plain": [
       "'\\n\\n原因是ETTODAY 是個 動態網頁\\n\\nbrowser 呈現給使用者的 網頁  是透過 js 不斷 動態 requests更新才能取得所有資訊\\n\\n而我們透過 1對1的方式 requests   只會呈現還未 更新的html 而已  也就是只有一部分的資料\\n打開瀏覽器就能檢查了\\n\\n'"
      ]
     },
     "execution_count": 2,
     "metadata": {},
     "output_type": "execute_result"
    }
   ],
   "source": [
    "'''\n",
    "\n",
    "原因是ETTODAY 是個 動態網頁\n",
    "\n",
    "browser 呈現給使用者的 網頁  是透過 js 不斷 動態 requests更新才能取得所有資訊\n",
    "\n",
    "而我們透過 1對1的方式 requests   只會呈現還未 更新的html 而已  也就是只有一部分的資料\n",
    "打開瀏覽器就能檢查了\n",
    "\n",
    "'''"
   ]
  },
  {
   "cell_type": "code",
   "execution_count": null,
   "metadata": {},
   "outputs": [],
   "source": []
  }
 ],
 "metadata": {
  "kernelspec": {
   "display_name": "Python 3",
   "language": "python",
   "name": "python3"
  },
  "language_info": {
   "codemirror_mode": {
    "name": "ipython",
    "version": 3
   },
   "file_extension": ".py",
   "mimetype": "text/x-python",
   "name": "python",
   "nbconvert_exporter": "python",
   "pygments_lexer": "ipython3",
   "version": "3.7.6"
  }
 },
 "nbformat": 4,
 "nbformat_minor": 4
}
