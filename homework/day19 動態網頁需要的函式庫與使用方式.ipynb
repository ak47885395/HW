{
 "cells": [
  {
   "cell_type": "code",
   "execution_count": 1,
   "metadata": {},
   "outputs": [
    {
     "name": "stdout",
     "output_type": "stream",
     "text": [
      "Collecting selenium\n",
      "  Downloading selenium-3.141.0-py2.py3-none-any.whl (904 kB)\n",
      "Requirement already satisfied: urllib3 in c:\\users\\user\\anaconda3\\lib\\site-packages (from selenium) (1.25.8)\n",
      "Installing collected packages: selenium\n",
      "Successfully installed selenium-3.141.0\n",
      "Note: you may need to restart the kernel to use updated packages.\n"
     ]
    }
   ],
   "source": [
    "pip install selenium"
   ]
  },
  {
   "cell_type": "code",
   "execution_count": 3,
   "metadata": {},
   "outputs": [],
   "source": [
    "\n",
    "import requests\n",
    "from bs4 import BeautifulSoup\n",
    "from selenium import webdriver\n",
    "from selenium.webdriver.support.ui import Select"
   ]
  },
  {
   "cell_type": "code",
   "execution_count": 4,
   "metadata": {},
   "outputs": [
    {
     "ename": "InvalidSessionIdException",
     "evalue": "Message: invalid session id\n",
     "output_type": "error",
     "traceback": [
      "\u001b[1;31m---------------------------------------------------------------------------\u001b[0m",
      "\u001b[1;31mInvalidSessionIdException\u001b[0m                 Traceback (most recent call last)",
      "\u001b[1;32m<ipython-input-4-3caf98fc6412>\u001b[0m in \u001b[0;36m<module>\u001b[1;34m\u001b[0m\n\u001b[0;32m      3\u001b[0m \u001b[0mbrowser\u001b[0m\u001b[1;33m.\u001b[0m\u001b[0mclose\u001b[0m\u001b[1;33m(\u001b[0m\u001b[1;33m)\u001b[0m\u001b[1;33m\u001b[0m\u001b[1;33m\u001b[0m\u001b[0m\n\u001b[0;32m      4\u001b[0m \u001b[1;33m\u001b[0m\u001b[0m\n\u001b[1;32m----> 5\u001b[1;33m \u001b[0mbrowser\u001b[0m\u001b[1;33m.\u001b[0m\u001b[0mpage_source\u001b[0m\u001b[1;33m\u001b[0m\u001b[1;33m\u001b[0m\u001b[0m\n\u001b[0m",
      "\u001b[1;32m~\\anaconda3\\lib\\site-packages\\selenium\\webdriver\\remote\\webdriver.py\u001b[0m in \u001b[0;36mpage_source\u001b[1;34m(self)\u001b[0m\n\u001b[0;32m    677\u001b[0m             \u001b[0mdriver\u001b[0m\u001b[1;33m.\u001b[0m\u001b[0mpage_source\u001b[0m\u001b[1;33m\u001b[0m\u001b[1;33m\u001b[0m\u001b[0m\n\u001b[0;32m    678\u001b[0m         \"\"\"\n\u001b[1;32m--> 679\u001b[1;33m         \u001b[1;32mreturn\u001b[0m \u001b[0mself\u001b[0m\u001b[1;33m.\u001b[0m\u001b[0mexecute\u001b[0m\u001b[1;33m(\u001b[0m\u001b[0mCommand\u001b[0m\u001b[1;33m.\u001b[0m\u001b[0mGET_PAGE_SOURCE\u001b[0m\u001b[1;33m)\u001b[0m\u001b[1;33m[\u001b[0m\u001b[1;34m'value'\u001b[0m\u001b[1;33m]\u001b[0m\u001b[1;33m\u001b[0m\u001b[1;33m\u001b[0m\u001b[0m\n\u001b[0m\u001b[0;32m    680\u001b[0m \u001b[1;33m\u001b[0m\u001b[0m\n\u001b[0;32m    681\u001b[0m     \u001b[1;32mdef\u001b[0m \u001b[0mclose\u001b[0m\u001b[1;33m(\u001b[0m\u001b[0mself\u001b[0m\u001b[1;33m)\u001b[0m\u001b[1;33m:\u001b[0m\u001b[1;33m\u001b[0m\u001b[1;33m\u001b[0m\u001b[0m\n",
      "\u001b[1;32m~\\anaconda3\\lib\\site-packages\\selenium\\webdriver\\remote\\webdriver.py\u001b[0m in \u001b[0;36mexecute\u001b[1;34m(self, driver_command, params)\u001b[0m\n\u001b[0;32m    319\u001b[0m         \u001b[0mresponse\u001b[0m \u001b[1;33m=\u001b[0m \u001b[0mself\u001b[0m\u001b[1;33m.\u001b[0m\u001b[0mcommand_executor\u001b[0m\u001b[1;33m.\u001b[0m\u001b[0mexecute\u001b[0m\u001b[1;33m(\u001b[0m\u001b[0mdriver_command\u001b[0m\u001b[1;33m,\u001b[0m \u001b[0mparams\u001b[0m\u001b[1;33m)\u001b[0m\u001b[1;33m\u001b[0m\u001b[1;33m\u001b[0m\u001b[0m\n\u001b[0;32m    320\u001b[0m         \u001b[1;32mif\u001b[0m \u001b[0mresponse\u001b[0m\u001b[1;33m:\u001b[0m\u001b[1;33m\u001b[0m\u001b[1;33m\u001b[0m\u001b[0m\n\u001b[1;32m--> 321\u001b[1;33m             \u001b[0mself\u001b[0m\u001b[1;33m.\u001b[0m\u001b[0merror_handler\u001b[0m\u001b[1;33m.\u001b[0m\u001b[0mcheck_response\u001b[0m\u001b[1;33m(\u001b[0m\u001b[0mresponse\u001b[0m\u001b[1;33m)\u001b[0m\u001b[1;33m\u001b[0m\u001b[1;33m\u001b[0m\u001b[0m\n\u001b[0m\u001b[0;32m    322\u001b[0m             response['value'] = self._unwrap_value(\n\u001b[0;32m    323\u001b[0m                 response.get('value', None))\n",
      "\u001b[1;32m~\\anaconda3\\lib\\site-packages\\selenium\\webdriver\\remote\\errorhandler.py\u001b[0m in \u001b[0;36mcheck_response\u001b[1;34m(self, response)\u001b[0m\n\u001b[0;32m    240\u001b[0m                 \u001b[0malert_text\u001b[0m \u001b[1;33m=\u001b[0m \u001b[0mvalue\u001b[0m\u001b[1;33m[\u001b[0m\u001b[1;34m'alert'\u001b[0m\u001b[1;33m]\u001b[0m\u001b[1;33m.\u001b[0m\u001b[0mget\u001b[0m\u001b[1;33m(\u001b[0m\u001b[1;34m'text'\u001b[0m\u001b[1;33m)\u001b[0m\u001b[1;33m\u001b[0m\u001b[1;33m\u001b[0m\u001b[0m\n\u001b[0;32m    241\u001b[0m             \u001b[1;32mraise\u001b[0m \u001b[0mexception_class\u001b[0m\u001b[1;33m(\u001b[0m\u001b[0mmessage\u001b[0m\u001b[1;33m,\u001b[0m \u001b[0mscreen\u001b[0m\u001b[1;33m,\u001b[0m \u001b[0mstacktrace\u001b[0m\u001b[1;33m,\u001b[0m \u001b[0malert_text\u001b[0m\u001b[1;33m)\u001b[0m\u001b[1;33m\u001b[0m\u001b[1;33m\u001b[0m\u001b[0m\n\u001b[1;32m--> 242\u001b[1;33m         \u001b[1;32mraise\u001b[0m \u001b[0mexception_class\u001b[0m\u001b[1;33m(\u001b[0m\u001b[0mmessage\u001b[0m\u001b[1;33m,\u001b[0m \u001b[0mscreen\u001b[0m\u001b[1;33m,\u001b[0m \u001b[0mstacktrace\u001b[0m\u001b[1;33m)\u001b[0m\u001b[1;33m\u001b[0m\u001b[1;33m\u001b[0m\u001b[0m\n\u001b[0m\u001b[0;32m    243\u001b[0m \u001b[1;33m\u001b[0m\u001b[0m\n\u001b[0;32m    244\u001b[0m     \u001b[1;32mdef\u001b[0m \u001b[0m_value_or_default\u001b[0m\u001b[1;33m(\u001b[0m\u001b[0mself\u001b[0m\u001b[1;33m,\u001b[0m \u001b[0mobj\u001b[0m\u001b[1;33m,\u001b[0m \u001b[0mkey\u001b[0m\u001b[1;33m,\u001b[0m \u001b[0mdefault\u001b[0m\u001b[1;33m)\u001b[0m\u001b[1;33m:\u001b[0m\u001b[1;33m\u001b[0m\u001b[1;33m\u001b[0m\u001b[0m\n",
      "\u001b[1;31mInvalidSessionIdException\u001b[0m: Message: invalid session id\n"
     ]
    }
   ],
   "source": [
    "\n",
    "\n",
    "browser = webdriver.Chrome(executable_path = './chromedriver') #設定讀取放在相同目錄底下的driver檔案\n",
    "browser.get(\"https://www.google.com\")\n",
    "browser.close()\n",
    "\n",
    "browser.page_source"
   ]
  },
  {
   "cell_type": "code",
   "execution_count": 6,
   "metadata": {},
   "outputs": [],
   "source": [
    "\n",
    "\n",
    "r = requests.get(\"https://hahow.in/courses\")\n",
    "d = BeautifulSoup(r.text, 'lxml')\n",
    "\n",
    "#d.body.text\n",
    "# 只會爬蟲 JavaScript 語法，沒有網頁內容中的資料"
   ]
  },
  {
   "cell_type": "code",
   "execution_count": null,
   "metadata": {},
   "outputs": [],
   "source": [
    "browser = webdriver.Chrome(executable_path='chromedriver')\n",
    "browser.get(\"https://hahow.in/courses\")"
   ]
  },
  {
   "cell_type": "code",
   "execution_count": 13,
   "metadata": {
    "scrolled": true
   },
   "outputs": [
    {
     "data": {
      "text/plain": [
       "'Toggle navigation探索課程我要開課購物車是空的，來去逛逛？探索課程登入所有課程 所有課程募資中課程已開課課程排序 最新（預設）最多人數最長課時最高評價熱門課程募資倒數最新開課募資中Unity+Fungus 免程式製作你的文字冒險遊戲想做冒險遊戲又不會寫程式的話怎麼辦？只要使用 Fungus 外掛，讓你不用寫程式也能專心說個好故事。預購價\\xa0NT$799剩 30 天已募資 0/30 人募資中作品集必備！Mockup 模擬圖合成術將設計稿件透過好的 Mockup，更加生動真實的呈現在眾人的面前，本課程不只是能帶大家製作擁有個人特色的 Mockup，更要教大家透過設計脈絡整理自己的作品，讓作品能夠在眾多設計中脫穎而出！預購價\\xa0NT$1,800剩 29 天已募資 156%募資中小錢投資大公司，受用一生美股投資觀念由淺入深從美股的基本認識到學會看財報、技術分析。站在大師的肩膀上學選股，並且推薦所有專業投資人都會使用的網站以及工具。學會打造自己的投資組合並回測歷史數據。從 0 到 1 輕鬆成為美股大師！預購價\\xa0NT$1,688剩 28 天已募資 16/30 人募資中學會網拍、電商的資金運用公式想做網拍、電商但不知準備多少資金？\\n業績不錯卻一直沒有賺錢？\\n為什麼辛苦經營這麼久，收入支出還是不平衡？\\n主講人靠 6 萬開始經營網拍，並成功在三年後達成千萬業績！\\n課程中我將跟你分享我的實戰經驗以及精算資金運用，帶領你認識如何創業、資金運用、開拓通路及經營品牌，將最實用、去蕪存菁的創業懶人包，一次教給你！預購價\\xa0NT$2,399剩 27 天已募資 0/30 人募資中冠軍 DJ DinPei－帶你從零開始成為專業 DJ＃冠軍 DJ 給你的新手禮包\\n＃共五章節超過 200 分鐘的課程\\n＃不用任何基礎就能學會的課程設計三部曲\\n   ① 學會輕鬆的放歌\\n   ② 學會輕鬆又帥帥的放歌\\n   ③ 學會輕鬆帥帥又專業的方哥\\n\\n本課程會教你用最多 DJ 使用的專業軟體 Serato 放歌，一路從認識曲風、找歌、各種曲風接歌方式、刷碟，到多樣效果放歌的技巧，這堂課通通從基礎到專業一步步教會你。\\n\\n喜歡音樂的你！快來加入 DJ 的行列吧！預購價\\xa0NT$2,400剩 23 天已募資 13/30 人募資中女性專屬！筋肉媽媽的高效增肌減脂課這一套專屬女性的增肌減脂課程，將帶領妳從女性增肌減脂的角度出發，以科學化概念做為架構，並考量女性生體化學以及骨骼力學，將知識觀念結合飲食、運動訓練方法，幫助妳用更貼近自己身體的方式，每天每天往你的理想目標更進一步！預購價\\xa0NT$2,280剩 22 天已募資 313%募資中寫一手西洋書法美字：銅版體習字課使用金屬筆尖的沾水筆，沾墨書寫出古典優雅的英文美字。 習字不僅僅只有跟抄，培養美學概念，避免無效的練習，矯正錯誤觀念，寫出一手行雲流水的美字。預購價\\xa0NT$1,500剩 21 天已募資 190%募資中服飾批貨課：線上批購心法讓你低庫存高利潤有時候能賣，有時候又賣不動，找不到問題在哪裡嗎？從事服飾批貨十多年的老手，從批貨前的準備、批貨地的實際批貨流程解析，到整年度批貨經營規劃。手把手教給你預購價\\xa0NT$2,800剩 20 天已募資 5/30 人上課囉【折扣只到 8/29】響應式網頁設計還不會目前業界最為流行的響應式網頁設計嗎？讓六角學院線上手把手教會你/妳！目前無評價課時 507 分鐘同學 11 人NT$2,600上課囉【折扣只到 8/29】精通 Bootstrap 4此課程不在是念過所有元件的基礎課程，課程中會透過簡報、動畫不斷的強化同學對於網頁設計、Bootstrap 的運用觀念，並且在課程的進行中會透過許多的案例加深對於元件的使用概念，讓學習框架不再只是依循著文件內容而已。目前無評價課時 701 分鐘同學 14 人NT$2,600上課囉【折扣只到 8/29】HTML、CSS 開發一個網站為你打造就算沒有程式基礎，也能夠逐步學習獲得網頁排版技巧的紮實觀念，六角學院的講師將協助你成就更好的自己！目前無評價課時 927 分鐘同學 26 人NT$1,600上課囉【折扣只到 8/29】 jQuery 打造互動性網頁儘管你沒有 JavaScript 基礎也適合上這門課，為網頁添加具互動性的網頁動畫效果！目前無評價課時 350 分鐘同學 22 人NT$1,600募資中職場必備的批判思考力：沉思力篇深度思考其實不難！只要掌握八階段技巧，就能隨時隨地冷靜下來，針對任何主題進行深入且周全的分析批判！預購價\\xa0NT$399剩 16 天已募資 393%募資中職場人必學的商業分析術帶你學會產品與服務開發以及專案前中後期所需要的商業分析，包括數據收集與分析，運營企劃書提案，利害人關係分析，溝通協調心法，解決方案評估，需求導出的方法，建立流程模型與需求書等。預購價\\xa0NT$2,390剩 15 天已募資 150%募資中產品數據分析 - 打造網路產品的決策引擎從擁有億級使用者的跨國企業，到成長強勁的新創團隊，都必須透過使用者資料分析，改善產品與商業決策的品質。因此，我們總結過去協助跨國企業進行數據分析的經驗，結合「假說思考」、「產品策略」與「數據分析技巧」，幫助你釐清與定義產品問題，辨認有策略意義的相關數據，並透過 A/B 測試、同類群組比較、漏斗分析、因子分析、個人化等不同類型的方法，提升產品決策品質並持續優化使用者體驗。預購價\\xa0NT$2,700剩 14 天已募資 553%募資中做圖啦！設計省攻略：品牌應用新手速成你在創業或經營品牌社群網拍電商？\\n你是餐廳小吃飲料或行銷小編助理？\\n你想省錢快速學平面設計排版印刷？\\n職場工作新手做圖的 Illustrator 教學！預購價\\xa0NT$888剩 13 天已募資 157%募資中走進葡萄酒的世界 - 品味進化 20 堂課一門最實用的葡萄酒，從基礎到進階，理論到實踐，我們會以縝密的結構和邏輯，從藝術文化中舉例，讓你在學習葡萄酒的同時，提升品味與審美。預購價\\xa0NT$2,280剩 9 天已募資 22/50 人募資中我的設計超美感 – C4D 視覺密碼懶人包想在設計界走跳 必備的視覺創造力預購價\\xa0NT$1,580剩 8 天已募資 627%募資中從零開始，ob11/黏土娃娃衣製作教學ob11 黏土娃娃衣製作課程，教你如何替黏土娃設計、製作專屬衣服。課程將教你繪製娃衣版型與衣服打版，也會介紹製作娃衣的工具與材料，你也能替珍藏的 ob11 娃娃設計專屬娃衣作品！預購價\\xa0NT$990剩 7 天已募資 400%募資中用攝影打造第二人生｜讓熱情全職為你工作在影像爆炸的時代下，動態影像工作的需求日益增長，從實體到網路的店家，大型與中小企業，甚至是網路內容創作者 Youtuber，各行各業都需要「拍影片」在這數位時代下行銷自我形象，而我們的課程就是幫助對攝影有熱情的你，從零開始踏上這股影像需求的潮流，建立屬於自己的接案事業。預購價\\xa0NT$1,480剩 3 天已募資 146%募資中時尚設計：基本知識與設計流程透過一堂課幫你建立「時尚與服裝設計」領域的入門概念，從流行到產業，從靈感到產品，學習專業知識，並帶你用服裝設計師的專業角度來看待時尚。\\n預購價\\xa0NT$1,200剩 2 天已募資 13/30 人募資中6五3的書法設計課：跳脫字帖的書寫自由式這堂與眾不同的書法課，將打破大眾對書法課的想像，透過簡單的線條，帶你跨越書法的第一道門檻。預購價\\xa0NT$1,600剩 1 天已募資 3400%募資成功打電動也能賺錢：如何成為遊戲實況主？從最基礎的遊戲實況概念出發，一路幫助你創立頻道、實戰開始直播、並且穩定的經營個人頻道直至開始營利賺錢，讓你成為一名遊戲實況主！售價\\xa0NT$1,800即將開課已募資 147%募資成功《當我們扯在一起》太陽馬戲團老師的扯鈴課世界頂尖扯鈴玩家【趙志翰】邀請大家體會扯鈴的樂趣！這堂課不僅讓你輕鬆學會至尊精選基本功，訓練手眼協調，還能培養健康的興趣，快來加入「當我們扯在一起」扯鈴教學計劃吧！售價\\xa0NT$2,400即將開課已募資 110%12345...22關於關於我們加入 Hahow使用者條款服務契約隱私權政策功能更新幫助企業學習方案異業合作洽談常見問題課程許願池兌換課程線上課程禮物卡填課前問卷拿優惠追蹤動態FacebookInstagramLINEYouTubeBlog輸入地點 輸入地點將顯示對應幣別TW\\xa0台灣\\xa0\\xa0新台幣（TWD）HK\\xa0香港\\xa0\\xa0港幣（HKD）MY\\xa0馬來西亞\\xa0\\xa0林吉特（MYR）US\\xa0美國\\xa0\\xa0美元（USD）JP\\xa0日本\\xa0\\xa0日圓（JPY）CN\\xa0中國\\xa0\\xa0人民幣（CNY）MO\\xa0澳門\\xa0\\xa0澳門幣（MOP）SG\\xa0新加坡\\xa0\\xa0新幣（SGD）AU\\xa0澳洲\\xa0\\xa0澳幣（AUD）CA\\xa0加拿大\\xa0\\xa0加幣（CAD）繁體中文 繁體中文简体中文Hahow 好學校 © All Rights Reserved.'"
      ]
     },
     "execution_count": 13,
     "metadata": {},
     "output_type": "execute_result"
    }
   ],
   "source": [
    "\n",
    "# 取得資料（等瀏覽器資料出現後才執行）\n",
    "html_source = browser.page_source\n",
    "#  html_source\n",
    "# 取得資料\n",
    "soup = BeautifulSoup(html_source , 'html.parser')\n",
    "soup.find('div', attrs={\"id\":\"root\"}).text"
   ]
  },
  {
   "cell_type": "markdown",
   "metadata": {},
   "source": [
    "# 動態網頁爬蟲 - 使用 Selenium\n",
    "\n",
    "了解 Selenium 用於動態網頁爬蟲的原理\n",
    "\n",
    "能夠使用 Selenium 撰寫動態網頁爬蟲"
   ]
  },
  {
   "cell_type": "markdown",
   "metadata": {},
   "source": [
    "# 作業目標\n",
    "\n",
    "請試著利用 Selenium 開啟 Google 網頁，不要關掉。\n",
    "\n",
    "請利用剛剛開啟的瀏覽器，切換到 這個網址 網頁，然後關掉。（URL: https://www.cupoy.com/clubnews/ai_tw/0000016E62FB84E4000000026375706F795F72656C656173654B5741535354434C5542/0000016F69B5DB8C000000266375706F795F72656C656173654B5741535354434C55424E455753 ）"
   ]
  },
  {
   "cell_type": "code",
   "execution_count": 20,
   "metadata": {},
   "outputs": [],
   "source": [
    "# 1. 請試著利用 Selenium 開啟 Google 網頁，不要關掉。\n",
    "browser=webdriver.Chrome(executable_path='chromedriver')\n",
    "\n",
    "browser.get(\"https://www.google.com/\")\n",
    "\n",
    "# 好像要加  https:// 才對\n",
    "\n"
   ]
  },
  {
   "cell_type": "code",
   "execution_count": 21,
   "metadata": {},
   "outputs": [],
   "source": [
    "# 2. 請利用剛剛開啟的瀏覽器，切換到 這個網址 網頁，取得網頁內容。\n",
    "# URL: https://www.cupoy.com/clubnews/ai_tw/0000016E62FB84E4000000026375706F795F72656C656173654B5741535354434C5542/0000016F69B5DB8C000000266375706F795F72656C656173654B5741535354434C55424E455753\n",
    "'''html_source = browser.page_source\n",
    "\n",
    "soup = BeautifulSoup(html_source , \"html.parser\")\n",
    "\n",
    "print(soup)\n",
    "'''\n",
    "browser.get(\"https://www.cupoy.com/clubnews/ai_tw/0000016E62FB84E4000000026375706F795F72656C656173654B5741535354434C5542/0000016F69B5DB8C000000266375706F795F72656C656173654B5741535354434C55424E455753\")\n",
    "\n",
    "# 如果要取得的網站 部是一樣的 不會另外開一個視窗"
   ]
  },
  {
   "cell_type": "code",
   "execution_count": 19,
   "metadata": {},
   "outputs": [],
   "source": [
    "# 3. 將瀏覽器關閉\n",
    "browser.close()"
   ]
  },
  {
   "cell_type": "code",
   "execution_count": null,
   "metadata": {},
   "outputs": [],
   "source": []
  }
 ],
 "metadata": {
  "kernelspec": {
   "display_name": "Python 3",
   "language": "python",
   "name": "python3"
  },
  "language_info": {
   "codemirror_mode": {
    "name": "ipython",
    "version": 3
   },
   "file_extension": ".py",
   "mimetype": "text/x-python",
   "name": "python",
   "nbconvert_exporter": "python",
   "pygments_lexer": "ipython3",
   "version": "3.7.6"
  }
 },
 "nbformat": 4,
 "nbformat_minor": 4
}
